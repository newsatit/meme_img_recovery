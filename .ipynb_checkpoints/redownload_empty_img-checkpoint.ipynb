{
 "cells": [
  {
   "cell_type": "code",
   "execution_count": 8,
   "metadata": {},
   "outputs": [],
   "source": [
    "import cv2\n",
    "import numpy as np\n",
    "from matplotlib import pyplot as plt\n",
    "import pandas as pd\n",
    "import requests"
   ]
  },
  {
   "cell_type": "code",
   "execution_count": 9,
   "metadata": {},
   "outputs": [],
   "source": [
    "img_urls = pd.read_csv('img_url.csv')"
   ]
  },
  {
   "cell_type": "code",
   "execution_count": null,
   "metadata": {},
   "outputs": [],
   "source": [
    "no_empty = False\n",
    "while not no_empty:\n",
    "    no_empty = True\n",
    "    for index, row in img_urls.iterrows():\n",
    "        img_url = row['img_url']\n",
    "        img_id = img_url[37:-4]\n",
    "        if(not cv2.imread('./img/base_img_%s.jpg'%(img_id),0) is None):\n",
    "            continue\n",
    "        print(index)\n",
    "        no_empty = False\n",
    "        img_data = requests.get(img_url).content\n",
    "        with open('./img/base_img_%s.jpg'%(img_id), 'wb') as handler:\n",
    "            handler.write(img_data)"
   ]
  }
 ],
 "metadata": {
  "kernelspec": {
   "display_name": "Python 3",
   "language": "python",
   "name": "python3"
  },
  "language_info": {
   "codemirror_mode": {
    "name": "ipython",
    "version": 3
   },
   "file_extension": ".py",
   "mimetype": "text/x-python",
   "name": "python",
   "nbconvert_exporter": "python",
   "pygments_lexer": "ipython3",
   "version": "3.6.7"
  }
 },
 "nbformat": 4,
 "nbformat_minor": 2
}
