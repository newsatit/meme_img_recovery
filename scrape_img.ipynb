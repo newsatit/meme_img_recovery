{
 "cells": [
  {
   "cell_type": "code",
   "execution_count": null,
   "metadata": {},
   "outputs": [],
   "source": [
    "# last page 15\n",
    "from bs4 import BeautifulSoup\n",
    "import requests\n",
    "import numpy as np\n",
    "import re\n",
    "import csv\n",
    "import pickle"
   ]
  },
  {
   "cell_type": "code",
   "execution_count": null,
   "metadata": {},
   "outputs": [],
   "source": [
    "img_urls = []\n",
    "max_pages = 15\n",
    "for i in range(1, max_pages + 1):\n",
    "    page_url = 'https://memegenerator.net/images/popular/alltime/page/' + str(i)\n",
    "    page = requests.get(page_url) \n",
    "    soup = BeautifulSoup(page.text, 'html.parser')\n",
    "    for img_tag in soup.findAll('a', href=re.compile('^/instance/')):\n",
    "        img_url = 'https://memegenerator.net' + img_tag['href'].replace('/120x120','')\n",
    "        img_urls.append(img_url)"
   ]
  },
  {
   "cell_type": "code",
   "execution_count": null,
   "metadata": {},
   "outputs": [],
   "source": [
    "img_urls"
   ]
  },
  {
   "cell_type": "code",
   "execution_count": null,
   "metadata": {},
   "outputs": [],
   "source": [
    "# with open(\"./img_url.csv\",\"w+\") as my_csv:\n",
    "# #     writer = csv.DictWriter(my_csv, fieldnames = ['img_url'], delimiter = ',')\n",
    "# #     writer.writeheader()\n",
    "#     csvWriter = csv.writer(my_csv,delimiter=',')\n",
    "#     csvWriter.writerow(['img_url'])\n",
    "#     csvWriter.writerows(img_urls)"
   ]
  },
  {
   "cell_type": "code",
   "execution_count": null,
   "metadata": {},
   "outputs": [],
   "source": [
    "with open('./img_url.pkl', \"wb\") as my_pkl:\n",
    "    pickle.dump(img_urls, my_pkl)"
   ]
  }
 ],
 "metadata": {
  "kernelspec": {
   "display_name": "Python 3",
   "language": "python",
   "name": "python3"
  },
  "language_info": {
   "codemirror_mode": {
    "name": "ipython",
    "version": 3
   },
   "file_extension": ".py",
   "mimetype": "text/x-python",
   "name": "python",
   "nbconvert_exporter": "python",
   "pygments_lexer": "ipython3",
   "version": "3.6.7"
  }
 },
 "nbformat": 4,
 "nbformat_minor": 2
}
