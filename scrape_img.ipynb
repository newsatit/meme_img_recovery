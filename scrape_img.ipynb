{
 "cells": [
  {
   "cell_type": "code",
   "execution_count": 4,
   "metadata": {},
   "outputs": [],
   "source": [
    "# last page 295\n",
    "from bs4 import BeautifulSoup\n",
    "import requests\n",
    "import numpy as np\n",
    "import re\n",
    "import csv"
   ]
  },
  {
   "cell_type": "code",
   "execution_count": 5,
   "metadata": {},
   "outputs": [],
   "source": [
    "img_urls = []\n",
    "max_pages = 295\n",
    "for i in range(1, max_pages + 1):\n",
    "    page_url = 'https://memegenerator.net/memes/popular/alltime/page/' + str(i)\n",
    "    page = requests.get(page_url) \n",
    "    soup = BeautifulSoup(page.text, 'html.parser')\n",
    "    for img_tag in soup.findAll('img', src=re.compile('^https://memegenerator.net/img/images/120x120/')):\n",
    "        img_url = img_tag['src'].replace('/120x120','')\n",
    "        img_urls.append([img_url])"
   ]
  },
  {
   "cell_type": "code",
   "execution_count": 6,
   "metadata": {},
   "outputs": [],
   "source": [
    "with open(\"./img_url.csv\",\"w+\") as my_csv:\n",
    "#     writer = csv.DictWriter(my_csv, fieldnames = ['img_url'], delimiter = ',')\n",
    "#     writer.writeheader()\n",
    "    csvWriter = csv.writer(my_csv,delimiter=',')\n",
    "    csvWriter.writerow(['img_url'])\n",
    "    csvWriter.writerows(img_urls)"
   ]
  }
 ],
 "metadata": {
  "kernelspec": {
   "display_name": "Python 3",
   "language": "python",
   "name": "python3"
  },
  "language_info": {
   "codemirror_mode": {
    "name": "ipython",
    "version": 3
   },
   "file_extension": ".py",
   "mimetype": "text/x-python",
   "name": "python",
   "nbconvert_exporter": "python",
   "pygments_lexer": "ipython3",
   "version": "3.6.7"
  }
 },
 "nbformat": 4,
 "nbformat_minor": 2
}
